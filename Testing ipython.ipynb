{
 "cells": [
  {
   "cell_type": "markdown",
   "metadata": {},
   "source": [
    "##### ANN\n",
    "\n",
    "A neuron with  an input  vector $x$ weight $w$ and bias $b$ creates an output of $\\hat{Y} = g(z)$ where $g(z)$ is the activation function and $$z = w^T\\cdot x+b$$ is the equation for linear transformation\n",
    "The weighted sum of all the inputs is:\n",
    "$$z = \\sum_{i=1}^n w^T\\cdot x+b$$\n",
    "\n",
    "SoftMax: $${\\displaystyle P(y=j\\mid \\mathbf {x} )={\\frac {e^{\\mathbf {x} ^{\\mathsf {T}}\\mathbf {w} _{j}}}{\\sum _{k=1}^{K}e^{\\mathbf {x} ^{\\mathsf {T}}\\mathbf {w} _{k}}}}}$$ \n",
    "\n",
    "\n",
    "\n",
    "\n",
    "\n",
    "\n",
    "\n",
    "\n",
    "$w\\mapsto E(f_{N}(w,x_{1}),y_{1})$"
   ]
  }
 ],
 "metadata": {
  "kernelspec": {
   "display_name": "Python 3",
   "language": "python",
   "name": "python3"
  },
  "language_info": {
   "codemirror_mode": {
    "name": "ipython",
    "version": 3
   },
   "file_extension": ".py",
   "mimetype": "text/x-python",
   "name": "python",
   "nbconvert_exporter": "python",
   "pygments_lexer": "ipython3",
   "version": "3.7.6"
  }
 },
 "nbformat": 4,
 "nbformat_minor": 4
}
